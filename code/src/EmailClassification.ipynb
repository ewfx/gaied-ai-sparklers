{
  "nbformat": 4,
  "nbformat_minor": 0,
  "metadata": {
    "colab": {
      "provenance": []
    },
    "kernelspec": {
      "name": "python3",
      "display_name": "Python 3"
    },
    "language_info": {
      "name": "python"
    }
  },
  "cells": [
    {
      "cell_type": "markdown",
      "source": [
        "# Email & document classification for triage"
      ],
      "metadata": {
        "id": "cmx39wLmoCDv"
      }
    },
    {
      "cell_type": "markdown",
      "source": [
        "## Email Classification\n",
        "- Uses GPT to classify emails into Request Type and Sub Request Type.\n",
        "- Returns a confidence score for classification."
      ],
      "metadata": {
        "id": "PbKQ2z9ioFOw"
      }
    },
    {
      "cell_type": "code",
      "source": [
        "!pip install openai langchain_openai pdfplumber pytesseract pdf2image python-docx fpdf"
      ],
      "metadata": {
        "colab": {
          "base_uri": "https://localhost:8080/"
        },
        "id": "PXnqf2F2prT0",
        "outputId": "6d5dcaf9-1f56-4090-83ca-a49257047599"
      },
      "execution_count": null,
      "outputs": [
        {
          "output_type": "stream",
          "name": "stdout",
          "text": [
            "Requirement already satisfied: openai in /usr/local/lib/python3.11/dist-packages (1.66.3)\n",
            "Requirement already satisfied: langchain_openai in /usr/local/lib/python3.11/dist-packages (0.3.9)\n",
            "Requirement already satisfied: pdfplumber in /usr/local/lib/python3.11/dist-packages (0.11.5)\n",
            "Requirement already satisfied: pytesseract in /usr/local/lib/python3.11/dist-packages (0.3.13)\n",
            "Requirement already satisfied: pdf2image in /usr/local/lib/python3.11/dist-packages (1.17.0)\n",
            "Requirement already satisfied: python-docx in /usr/local/lib/python3.11/dist-packages (1.1.2)\n",
            "Collecting fpdf\n",
            "  Downloading fpdf-1.7.2.tar.gz (39 kB)\n",
            "  Preparing metadata (setup.py) ... \u001b[?25l\u001b[?25hdone\n",
            "Requirement already satisfied: anyio<5,>=3.5.0 in /usr/local/lib/python3.11/dist-packages (from openai) (4.9.0)\n",
            "Requirement already satisfied: distro<2,>=1.7.0 in /usr/local/lib/python3.11/dist-packages (from openai) (1.9.0)\n",
            "Requirement already satisfied: httpx<1,>=0.23.0 in /usr/local/lib/python3.11/dist-packages (from openai) (0.28.1)\n",
            "Requirement already satisfied: jiter<1,>=0.4.0 in /usr/local/lib/python3.11/dist-packages (from openai) (0.9.0)\n",
            "Requirement already satisfied: pydantic<3,>=1.9.0 in /usr/local/lib/python3.11/dist-packages (from openai) (2.10.6)\n",
            "Requirement already satisfied: sniffio in /usr/local/lib/python3.11/dist-packages (from openai) (1.3.1)\n",
            "Requirement already satisfied: tqdm>4 in /usr/local/lib/python3.11/dist-packages (from openai) (4.67.1)\n",
            "Requirement already satisfied: typing-extensions<5,>=4.11 in /usr/local/lib/python3.11/dist-packages (from openai) (4.12.2)\n",
            "Requirement already satisfied: langchain-core<1.0.0,>=0.3.45 in /usr/local/lib/python3.11/dist-packages (from langchain_openai) (0.3.45)\n",
            "Requirement already satisfied: tiktoken<1,>=0.7 in /usr/local/lib/python3.11/dist-packages (from langchain_openai) (0.9.0)\n",
            "Requirement already satisfied: pdfminer.six==20231228 in /usr/local/lib/python3.11/dist-packages (from pdfplumber) (20231228)\n",
            "Requirement already satisfied: Pillow>=9.1 in /usr/local/lib/python3.11/dist-packages (from pdfplumber) (11.1.0)\n",
            "Requirement already satisfied: pypdfium2>=4.18.0 in /usr/local/lib/python3.11/dist-packages (from pdfplumber) (4.30.1)\n",
            "Requirement already satisfied: charset-normalizer>=2.0.0 in /usr/local/lib/python3.11/dist-packages (from pdfminer.six==20231228->pdfplumber) (3.4.1)\n",
            "Requirement already satisfied: cryptography>=36.0.0 in /usr/local/lib/python3.11/dist-packages (from pdfminer.six==20231228->pdfplumber) (43.0.3)\n",
            "Requirement already satisfied: packaging>=21.3 in /usr/local/lib/python3.11/dist-packages (from pytesseract) (24.2)\n",
            "Requirement already satisfied: lxml>=3.1.0 in /usr/local/lib/python3.11/dist-packages (from python-docx) (5.3.1)\n",
            "Requirement already satisfied: idna>=2.8 in /usr/local/lib/python3.11/dist-packages (from anyio<5,>=3.5.0->openai) (3.10)\n",
            "Requirement already satisfied: certifi in /usr/local/lib/python3.11/dist-packages (from httpx<1,>=0.23.0->openai) (2025.1.31)\n",
            "Requirement already satisfied: httpcore==1.* in /usr/local/lib/python3.11/dist-packages (from httpx<1,>=0.23.0->openai) (1.0.7)\n",
            "Requirement already satisfied: h11<0.15,>=0.13 in /usr/local/lib/python3.11/dist-packages (from httpcore==1.*->httpx<1,>=0.23.0->openai) (0.14.0)\n",
            "Requirement already satisfied: langsmith<0.4,>=0.1.125 in /usr/local/lib/python3.11/dist-packages (from langchain-core<1.0.0,>=0.3.45->langchain_openai) (0.3.15)\n",
            "Requirement already satisfied: tenacity!=8.4.0,<10.0.0,>=8.1.0 in /usr/local/lib/python3.11/dist-packages (from langchain-core<1.0.0,>=0.3.45->langchain_openai) (9.0.0)\n",
            "Requirement already satisfied: jsonpatch<2.0,>=1.33 in /usr/local/lib/python3.11/dist-packages (from langchain-core<1.0.0,>=0.3.45->langchain_openai) (1.33)\n",
            "Requirement already satisfied: PyYAML>=5.3 in /usr/local/lib/python3.11/dist-packages (from langchain-core<1.0.0,>=0.3.45->langchain_openai) (6.0.2)\n",
            "Requirement already satisfied: annotated-types>=0.6.0 in /usr/local/lib/python3.11/dist-packages (from pydantic<3,>=1.9.0->openai) (0.7.0)\n",
            "Requirement already satisfied: pydantic-core==2.27.2 in /usr/local/lib/python3.11/dist-packages (from pydantic<3,>=1.9.0->openai) (2.27.2)\n",
            "Requirement already satisfied: regex>=2022.1.18 in /usr/local/lib/python3.11/dist-packages (from tiktoken<1,>=0.7->langchain_openai) (2024.11.6)\n",
            "Requirement already satisfied: requests>=2.26.0 in /usr/local/lib/python3.11/dist-packages (from tiktoken<1,>=0.7->langchain_openai) (2.32.3)\n",
            "Requirement already satisfied: cffi>=1.12 in /usr/local/lib/python3.11/dist-packages (from cryptography>=36.0.0->pdfminer.six==20231228->pdfplumber) (1.17.1)\n",
            "Requirement already satisfied: jsonpointer>=1.9 in /usr/local/lib/python3.11/dist-packages (from jsonpatch<2.0,>=1.33->langchain-core<1.0.0,>=0.3.45->langchain_openai) (3.0.0)\n",
            "Requirement already satisfied: orjson<4.0.0,>=3.9.14 in /usr/local/lib/python3.11/dist-packages (from langsmith<0.4,>=0.1.125->langchain-core<1.0.0,>=0.3.45->langchain_openai) (3.10.15)\n",
            "Requirement already satisfied: requests-toolbelt<2.0.0,>=1.0.0 in /usr/local/lib/python3.11/dist-packages (from langsmith<0.4,>=0.1.125->langchain-core<1.0.0,>=0.3.45->langchain_openai) (1.0.0)\n",
            "Requirement already satisfied: zstandard<0.24.0,>=0.23.0 in /usr/local/lib/python3.11/dist-packages (from langsmith<0.4,>=0.1.125->langchain-core<1.0.0,>=0.3.45->langchain_openai) (0.23.0)\n",
            "Requirement already satisfied: urllib3<3,>=1.21.1 in /usr/local/lib/python3.11/dist-packages (from requests>=2.26.0->tiktoken<1,>=0.7->langchain_openai) (2.3.0)\n",
            "Requirement already satisfied: pycparser in /usr/local/lib/python3.11/dist-packages (from cffi>=1.12->cryptography>=36.0.0->pdfminer.six==20231228->pdfplumber) (2.22)\n",
            "Building wheels for collected packages: fpdf\n",
            "  Building wheel for fpdf (setup.py) ... \u001b[?25l\u001b[?25hdone\n",
            "  Created wheel for fpdf: filename=fpdf-1.7.2-py2.py3-none-any.whl size=40704 sha256=5acb63e4c43d8465d9dcad147dbaafe3e6fafa3f5d3756c249c45ee1a278f11b\n",
            "  Stored in directory: /root/.cache/pip/wheels/65/4f/66/bbda9866da446a72e206d6484cd97381cbc7859a7068541c36\n",
            "Successfully built fpdf\n",
            "Installing collected packages: fpdf\n",
            "Successfully installed fpdf-1.7.2\n"
          ]
        }
      ]
    },
    {
      "cell_type": "markdown",
      "source": [
        "## Import the Required Libraries"
      ],
      "metadata": {
        "id": "oxnQZk05SrOr"
      }
    },
    {
      "cell_type": "code",
      "source": [
        "from langchain_openai import ChatOpenAI\n",
        "from langchain.prompts import PromptTemplate\n",
        "\n",
        "import os\n",
        "import openai\n",
        "import json\n",
        "\n",
        "import email\n",
        "import pdfplumber\n",
        "import pytesseract\n",
        "from email import policy\n",
        "from email.parser import BytesParser\n",
        "from bs4 import BeautifulSoup\n",
        "from PIL import Image\n",
        "from pdf2image import convert_from_path\n",
        "from docx import Document\n",
        "from io import BytesIO\n"
      ],
      "metadata": {
        "id": "jrnIP_FWOjgE"
      },
      "execution_count": null,
      "outputs": []
    },
    {
      "cell_type": "markdown",
      "source": [
        "## Mount the google drive"
      ],
      "metadata": {
        "id": "EHRgmbKnXC89"
      }
    },
    {
      "cell_type": "code",
      "source": [
        "# Mount Google Drive\n",
        "from google.colab import drive\n",
        "drive.mount('/content/drive', force_remount=True)"
      ],
      "metadata": {
        "colab": {
          "base_uri": "https://localhost:8080/"
        },
        "id": "-3TDNW2tXDdw",
        "outputId": "fcd917a6-a81e-4ea4-c2d4-a0dfffdbc312"
      },
      "execution_count": null,
      "outputs": [
        {
          "output_type": "stream",
          "name": "stdout",
          "text": [
            "Mounted at /content/drive\n"
          ]
        }
      ]
    },
    {
      "cell_type": "markdown",
      "source": [
        "## Setup the Api Key for using Open Api"
      ],
      "metadata": {
        "id": "QqJZi82cXYuM"
      }
    },
    {
      "cell_type": "code",
      "source": [
        "# Set the API key\n",
        "folder_path = \"/content/drive/MyDrive/EmailClassification/\"\n",
        "\n",
        "# Read the text file containing the API key\n",
        "with open(folder_path + 'OpenAI_API_Key.txt', 'r') as f:\n",
        "  openai.api_key = ' '.join(f.readlines())\n",
        "\n",
        "# Update the OpenAI API key by updating the environment variable\n",
        "os.environ[\"OPENAI_API_KEY\"] = openai.api_key"
      ],
      "metadata": {
        "id": "zpsC8b7oXXWS"
      },
      "execution_count": null,
      "outputs": []
    },
    {
      "cell_type": "markdown",
      "source": [
        "### Extract text from email (EML format) with attachments"
      ],
      "metadata": {
        "id": "FxNxROrDrf2S"
      }
    },
    {
      "cell_type": "code",
      "source": [
        "def extract_email_text(eml_file_path):\n",
        "    wit h open(eml_file_path, \"rb\") as f:\n",
        "        msg = BytesParser(policy=policy.default).parse(f)\n",
        "\n",
        "    # Extract subject and body\n",
        "    subject = msg[\"subject\"]\n",
        "    body = None\n",
        "\n",
        "    # Process email body (plain text or HTML)\n",
        "    if msg.is_multipart():\n",
        "        for part in msg.walk():\n",
        "            content_type = part.get_content_type()\n",
        "            if content_type == \"text/plain\":\n",
        "                body = part.get_payload(decode=True).decode(errors=\"ignore\")\n",
        "      xp    a    elif content_type == \"text/html\":\n",
        "                soup = BeautifulSoup(part.get_payload(decode=True), \"html.parser\")\n",
        "                body = soup.get_text()\n",
        "    else:\n",
        "        body = msg.get_payload(decode=True).decode(errors=\"ignore\")\n",
        "\n",
        "    return subject, body\n",
        "\n",
        "# Function to extract text from PDF attachments\n",
        "def extract_text_from_pdf(pdf_path):\n",
        "    text = \"\"\n",
        "    with pdfplumber.open(pdf_path) as pdf:\n",
        "        for page in pdf.pages:\n",
        "            text += page.extract_text() + \"\\n\"\n",
        "    return text.strip()\n",
        "\n",
        "# Function to extract text from images using OCR\n",
        "def extract_text_from_image(image_path):\n",
        "    image = Image.open(image_path)\n",
        "    text = pytesseract.image_to_string(image)\n",
        "    return text.strip()\n",
        "\n",
        "# Function to extract text from DOCX files\n",
        "def extract_text_from_docx(docx_path):\n",
        "    doc = Document(docx_path)\n",
        "    return \"\\n\".join([para.text for para in doc.paragraphs])\n",
        "\n",
        "# Function to process email and attachments\n",
        "def process_email_with_attachments(eml_file_path, attachment_dir=\"attachments\"):\n",
        "    subject, body = extract_email_text(eml_file_path)\n",
        "\n",
        "    # Create a directory to store attachments if it doesn't exist\n",
        "    os.makedirs(attachment_dir, exist_ok=True)\n",
        "\n",
        "    # Extract attachments\n",
        "    with open(eml_file_path, \"rb\") as f:\n",
        "        msg = BytesParser(policy=policy.default).parse(f)\n",
        "\n",
        "    attachment_texts = []\n",
        "    for part in msg.walk():\n",
        "        content_disposition = part.get(\"Content-Disposition\")\n",
        "        if content_disposition and \"attachment\" in content_disposition:\n",
        "            filename = part.get_filename()\n",
        "            attachment_path = os.path.join(attachment_dir, filename)\n",
        "\n",
        "            with open(attachment_path, \"wb\") as file:\n",
        "                file.write(part.get_payload(decode=True))\n",
        "\n",
        "            # Process attachments based on file type\n",
        "            if filename.endswith(\".pdf\"):\n",
        "                attachment_texts.append(extract_text_from_pdf(attachment_path))\n",
        "            elif filename.endswith(\".docx\"):\n",
        "                attachment_texts.append(extract_text_from_docx(attachment_path))\n",
        "            elif filename.endswith((\".png\", \".jpg\", \".jpeg\")):\n",
        "                attachment_texts.append(extract_text_from_image(attachment_path))\n",
        "\n",
        "    return {\n",
        "        \"subject\": subject,\n",
        "        \"body\": body,\n",
        "        \"attachments_text\": attachment_texts\n",
        "    }"
      ],
      "metadata": {
        "id": "KnUlGmwDqYPz"
      },
      "execution_count": null,
      "outputs": []
    },
    {
      "cell_type": "markdown",
      "source": [
        "### Function Calling Api to Extract Request & sub request in json format\n",
        "Using the Function Calling API to create a function schema to extract data directly into the defined JSON format"
      ],
      "metadata": {
        "id": "-A-evhsPLDxf"
      }
    },
    {
      "cell_type": "code",
      "source": [
        "# Define the function schema\n",
        "functions = [\n",
        "    {\n",
        "        \"name\": \"classify_email\",\n",
        "        \"description\": \"Classifies the email into a request type and sub-request type\",\n",
        "        \"parameters\": {\n",
        "            \"type\": \"object\",\n",
        "            \"properties\": {\n",
        "                \"request_type\": {\n",
        "                    \"type\": \"string\",\n",
        "                    \"description\": \"The high-level category of the request\"\n",
        "                },\n",
        "                \"sub_request_type\": {\n",
        "                    \"type\": \"string\",\n",
        "                    \"description\": \"The specific sub-category under the request type\"\n",
        "                }\n",
        "            },\n",
        "            \"required\": [\"request_type\", \"sub_request_type\"]\n",
        "        }\n",
        "    }\n",
        "]\n"
      ],
      "metadata": {
        "id": "GKkD-3F_tdrU"
      },
      "execution_count": null,
      "outputs": []
    },
    {
      "cell_type": "code",
      "source": [
        "def moderate_content(content):\n",
        "    # Placeholder function for moderation (assume OpenAI's moderation API is used here)\n",
        "    moderation_response = openai.moderations.create(input=content)\n",
        "    if moderation_response.results[0].flagged:\n",
        "        return False\n",
        "    return True"
      ],
      "metadata": {
        "id": "bvTLY1GzIHTe"
      },
      "execution_count": null,
      "outputs": []
    },
    {
      "cell_type": "code",
      "source": [
        "def get_chat_completions(user_input, functions):\n",
        "\n",
        "    response = openai.chat.completions.create(\n",
        "        model=\"gpt-4-turbo\",\n",
        "        messages=user_input,\n",
        "        functions=functions,\n",
        "        function_call=\"auto\"\n",
        "    )\n",
        "    # Extract the function call result\n",
        "    return response.choices[0].message"
      ],
      "metadata": {
        "id": "GieUzmUAIHQd"
      },
      "execution_count": null,
      "outputs": []
    },
    {
      "cell_type": "code",
      "source": [
        "def initialize_conversation(email_text):\n",
        "    predefined_request_types = \"\"\"\n",
        "    Request Types:\n",
        "    - Adjustment: (Subtypes: Closing Notice, Commitment Change, Fee Payment, Reallocation Fees, Amendment Fees, Reallocation Principal)\n",
        "    - AU Transfer: (Subtypes: Cashless Roll, Decrease, Increase, Ongoing Fee, Letter of Credit Fee)\n",
        "    - Money Movement-Inbound: (Subtypes: Principal, Interest, Principal + Interest, Principal+Interest+Fee)\n",
        "    - Money Movement-Outbound: (Subtypes: Timebound, Foreign Currency)\n",
        "    \"\"\"\n",
        "\n",
        "    classification_prompt = f\"\"\"\n",
        "    Below are the predefined request categories:\n",
        "\n",
        "    {predefined_request_types}\n",
        "\n",
        "    Please analyze the following email and classify it into the most relevant **Request Type** and **Sub Request Type**:\n",
        "\n",
        "    Email:\n",
        "    \"{email_text}\"\n",
        "\n",
        "    Ensure the classification follows the provided categories. If the email does not match any, return \"Unknown\".\n",
        "    \"\"\"\n",
        "    return [{\"role\": \"system\", \"content\": \"You are a subject matter expert in Commercial Bank Lending Service teams who classifies emails based on predefined request types and sub-request types.\"},\n",
        "            {\"role\": \"user\", \"content\": classification_prompt}]"
      ],
      "metadata": {
        "id": "9IhiaPUcvpK0"
      },
      "execution_count": null,
      "outputs": []
    },
    {
      "cell_type": "code",
      "source": [
        "eml_file_path = \"/content/drive/MyDrive/EmailClassification/sample_email.eml\"\n",
        "processed_email = process_email_with_attachments(eml_file_path)\n",
        "print(processed_email)"
      ],
      "metadata": {
        "colab": {
          "base_uri": "https://localhost:8080/"
        },
        "id": "OCATYenZrcRT",
        "outputId": "4c1e1e48-d7e4-4fad-a124-12da609d5cd2"
      },
      "execution_count": null,
      "outputs": [
        {
          "output_type": "stream",
          "name": "stdout",
          "text": [
            "{'subject': 'Facility Lender Share Adjustment', 'body': 'Citizens Bank, N.A.\\nLoan Agency Services\\n\\nDate: 05-Feb-2025\\n\\nTO: WELLS FARGO BANK, NATIONAL ASSOCIATION\\nATTN: RAMAKRISHNA KUNCHALA\\nFax: 877-606-9426\\n\\nRe: ABTB MID-ATLANTIC LLC $171.3MM 11-4-2022, TERM LOAN A-2\\n\\nDescription: Facility Lender Share Adjustment\\nBORROWER: ABTB MID-ATLANTIC LLC\\nDEAL NAME: ABB MID-ATLANTIC LLC $171.3MM 11-4-2022\\n\\nEffective 04-Feb-2025, the Lender Shares of facility TERM LOAN A-2 have been adjusted.\\nYour share of the commitment was USD 5,518,249.19. It has been Increased to USD 5,542,963.55.\\n\\nFor: WELLS FARGO BANK, NA\\nReference: ABIB MID-ATLANTIC LIC $171.3MM 11-4-2022\\n\\nIf you have any questions, please call the undersigned.\\n\\n** COMMENT *\\nPLEASE FUND YOUR SHARE OF $24,714.36\\n\\nBank Name: Citizens Bank NA\\nABA # 011500120\\nAccount #: 0026693011\\nAccount Name: LIQ CLO Operating Account\\nRef: ABTB Mid-Atlantic LLC\\n\\nRegards,\\nSCOTT WALLACE\\n', 'attachments_text': ['BANK OF AMERICA\\nBank of America, N.A.\\nTo: WELLS FARGO BANK NATIONAL ASSOCIATION\\nDate: 8-Nov-2023\\nATTN:\\nPhone: 999-999-9999\\nFax: 877-606-9426\\nEmail: DENLCFX@wellsfargo.com\\nRe: CANTOR FITZGERALD LP USD 425MM MAR22 / REVOLVER / CANTOR FIT00037\\nDeal CUSIP: 13861EAE0\\nDeal ISIN: US13861EAE05\\nFacility CUSIP: 13861EAF7\\nFacility ISIN: US13861EAF79\\nLender MEI: US1L058422\\nEffective 10-Nov-2023, CANTOR FITZGERALD LP has elected to repay under the SOFR (US) Term option, a total of USD 20,000,000.00.\\nPrevious Global principal balance: USD 45,000,000.00\\nNew Global principal balance: USD 25,000,000.00\\nYour share of the USD 20,000,000.00 SOFR (US) Term option payment is USD 1,411,764.71.\\nPrevious Lender Share Principal Balance: USD 3,176,470.59\\nNew Lender Share Principal Balance: USD 1,764,705.88\\nWe will remit USD 1,411,764.71 on the effective date. Please note that:\\n(i) if the Borrower has not in fact made such payment; or\\n(ii) any payment you receive is in excess of what was paid by the Borrower or\\n(iii) we notify you that the payment was erroneously made, then pursuant to the provisions of the credit facility, you agree to return such payment.\\nFor: WELLS FARGO BANK NATIONAL ASSOCIATION\\nTo: WELLS FARGO BANK, NA\\nABA Number: 121000248\\nAccount No: XXXXXXXXXX0720\\nReference: CANTOR FITZGERALD LP USD 425MM MAR22, SOFR (US) Term Principal Payment (CANTOR FIT00037)\\nThanks & Regards,\\nJONNY HERNANDEZ\\nTelephone #: +19803883225\\nEmail id: jonny.hernandez@bofa.com']}\n"
          ]
        }
      ]
    },
    {
      "cell_type": "code",
      "source": [
        "conversation = initialize_conversation(processed_email)\n",
        "email_classification = get_chat_completions(conversation, functions)\n",
        "email_classification_json = email_classification.function_call.arguments\n",
        "print(email_classification_json)"
      ],
      "metadata": {
        "colab": {
          "base_uri": "https://localhost:8080/"
        },
        "id": "bowAlN7ZolDP",
        "outputId": "4f0c83c2-62c1-496e-9702-8693fbbc49d6"
      },
      "execution_count": null,
      "outputs": [
        {
          "output_type": "stream",
          "name": "stdout",
          "text": [
            "{\"request_type\":\"AU Transfer\",\"sub_request_type\":\"Increase\"}\n"
          ]
        }
      ]
    },
    {
      "cell_type": "markdown",
      "source": [
        "## Only for Testing - use the below cod for generating eml file with attachment"
      ],
      "metadata": {
        "id": "zWb7irgrswg7"
      }
    },
    {
      "cell_type": "code",
      "source": [
        "import smtplib\n",
        "import email\n",
        "import pdfplumber\n",
        "from email.mime.multipart import MIMEMultipart\n",
        "from email.mime.text import MIMEText\n",
        "from email.mime.base import MIMEBase\n",
        "from email import encoders\n",
        "from fpdf import FPDF\n",
        "\n",
        "# Step 1: Create the PDF Attachment\n",
        "pdf_content = \"\"\"\\\n",
        "BANK OF AMERICA\n",
        "Bank of America, N.A.\n",
        "\n",
        "To: WELLS FARGO BANK NATIONAL ASSOCIATION\n",
        "Date: 8-Nov-2023\n",
        "ATTN:\n",
        "Phone: 999-999-9999\n",
        "Fax: 877-606-9426\n",
        "Email: DENLCFX@wellsfargo.com\n",
        "\n",
        "Re: CANTOR FITZGERALD LP USD 425MM MAR22 / REVOLVER / CANTOR FIT00037\n",
        "\n",
        "Deal CUSIP: 13861EAE0\n",
        "Deal ISIN: US13861EAE05\n",
        "Facility CUSIP: 13861EAF7\n",
        "Facility ISIN: US13861EAF79\n",
        "Lender MEI: US1L058422\n",
        "\n",
        "Effective 10-Nov-2023, CANTOR FITZGERALD LP has elected to repay under the SOFR (US) Term option, a total of USD 20,000,000.00.\n",
        "Previous Global principal balance: USD 45,000,000.00\n",
        "New Global principal balance: USD 25,000,000.00\n",
        "\n",
        "Your share of the USD 20,000,000.00 SOFR (US) Term option payment is USD 1,411,764.71.\n",
        "Previous Lender Share Principal Balance: USD 3,176,470.59\n",
        "New Lender Share Principal Balance: USD 1,764,705.88\n",
        "\n",
        "We will remit USD 1,411,764.71 on the effective date. Please note that:\n",
        "(i) if the Borrower has not in fact made such payment; or\n",
        "(ii) any payment you receive is in excess of what was paid by the Borrower or\n",
        "(iii) we notify you that the payment was erroneously made, then pursuant to the provisions of the credit facility, you agree to return such payment.\n",
        "\n",
        "For: WELLS FARGO BANK NATIONAL ASSOCIATION\n",
        "To: WELLS FARGO BANK, NA\n",
        "ABA Number: 121000248\n",
        "Account No: XXXXXXXXXX0720\n",
        "Reference: CANTOR FITZGERALD LP USD 425MM MAR22, SOFR (US) Term Principal Payment (CANTOR FIT00037)\n",
        "\n",
        "Thanks & Regards,\n",
        "JONNY HERNANDEZ\n",
        "Telephone #: +19803883225\n",
        "Email id: jonny.hernandez@bofa.com\n",
        "\"\"\"\n",
        "\n",
        "# Create PDF\n",
        "pdf_filename = \"attachment.pdf\"\n",
        "pdf = FPDF()\n",
        "pdf.set_auto_page_break(auto=True, margin=15)\n",
        "pdf.add_page()\n",
        "pdf.set_font(\"Arial\", size=12)\n",
        "\n",
        "for line in pdf_content.split(\"\\n\"):\n",
        "    pdf.cell(200, 10, txt=line, ln=True)\n",
        "\n",
        "pdf.output(pdf_filename)\n",
        "\n",
        "# Step 2: Create the Email Message in .eml Format\n",
        "msg = MIMEMultipart()\n",
        "msg[\"From\"] = \"scott.wallace@citizensbank.com\"\n",
        "msg[\"To\"] = \"ramakrishna.kunchala@wellsfargo.com\"\n",
        "msg[\"Subject\"] = \"Facility Lender Share Adjustment\"\n",
        "\n",
        "email_body = \"\"\"\\\n",
        "Citizens Bank, N.A.\n",
        "Loan Agency Services\n",
        "\n",
        "Date: 05-Feb-2025\n",
        "\n",
        "TO: WELLS FARGO BANK, NATIONAL ASSOCIATION\n",
        "ATTN: RAMAKRISHNA KUNCHALA\n",
        "Fax: 877-606-9426\n",
        "\n",
        "Re: ABTB MID-ATLANTIC LLC $171.3MM 11-4-2022, TERM LOAN A-2\n",
        "\n",
        "Description: Facility Lender Share Adjustment\n",
        "BORROWER: ABTB MID-ATLANTIC LLC\n",
        "DEAL NAME: ABB MID-ATLANTIC LLC $171.3MM 11-4-2022\n",
        "\n",
        "Effective 04-Feb-2025, the Lender Shares of facility TERM LOAN A-2 have been adjusted.\n",
        "Your share of the commitment was USD 5,518,249.19. It has been Increased to USD 5,542,963.55.\n",
        "\n",
        "For: WELLS FARGO BANK, NA\n",
        "Reference: ABIB MID-ATLANTIC LIC $171.3MM 11-4-2022\n",
        "\n",
        "If you have any questions, please call the undersigned.\n",
        "\n",
        "** COMMENT *\n",
        "PLEASE FUND YOUR SHARE OF $24,714.36\n",
        "\n",
        "Bank Name: Citizens Bank NA\n",
        "ABA # 011500120\n",
        "Account #: 0026693011\n",
        "Account Name: LIQ CLO Operating Account\n",
        "Ref: ABTB Mid-Atlantic LLC\n",
        "\n",
        "Regards,\n",
        "SCOTT WALLACE\n",
        "\"\"\"\n",
        "\n",
        "msg.attach(MIMEText(email_body, \"plain\"))\n",
        "\n",
        "# Attach PDF\n",
        "with open(pdf_filename, \"rb\") as attachment:\n",
        "    part = MIMEBase(\"application\", \"octet-stream\")\n",
        "    part.set_payload(attachment.read())\n",
        "\n",
        "# Encode attachment\n",
        "encoders.encode_base64(part)\n",
        "part.add_header(\n",
        "    \"Content-Disposition\",\n",
        "    f\"attachment; filename={pdf_filename}\",\n",
        ")\n",
        "msg.attach(part)\n",
        "\n",
        "# Save as .eml file\n",
        "eml_filename = \"sample_email.eml\"\n",
        "with open(eml_filename, \"w\") as eml_file:\n",
        "    eml_file.write(msg.as_string())\n",
        "\n",
        "print(f\"EML file '{eml_filename}' has been generated successfully.\")\n"
      ],
      "metadata": {
        "colab": {
          "base_uri": "https://localhost:8080/",
          "height": 383
        },
        "id": "sUhgDXJTs9Z_",
        "outputId": "28c611e4-8910-49bc-a2bf-b9ec817cdbf4"
      },
      "execution_count": null,
      "outputs": [
        {
          "output_type": "error",
          "ename": "ModuleNotFoundError",
          "evalue": "No module named 'pdfplumber'",
          "traceback": [
            "\u001b[0;31m---------------------------------------------------------------------------\u001b[0m",
            "\u001b[0;31mModuleNotFoundError\u001b[0m                       Traceback (most recent call last)",
            "\u001b[0;32m<ipython-input-1-2817e5d07b9f>\u001b[0m in \u001b[0;36m<cell line: 0>\u001b[0;34m()\u001b[0m\n\u001b[1;32m      1\u001b[0m \u001b[0;32mimport\u001b[0m \u001b[0msmtplib\u001b[0m\u001b[0;34m\u001b[0m\u001b[0;34m\u001b[0m\u001b[0m\n\u001b[1;32m      2\u001b[0m \u001b[0;32mimport\u001b[0m \u001b[0memail\u001b[0m\u001b[0;34m\u001b[0m\u001b[0;34m\u001b[0m\u001b[0m\n\u001b[0;32m----> 3\u001b[0;31m \u001b[0;32mimport\u001b[0m \u001b[0mpdfplumber\u001b[0m\u001b[0;34m\u001b[0m\u001b[0;34m\u001b[0m\u001b[0m\n\u001b[0m\u001b[1;32m      4\u001b[0m \u001b[0;32mfrom\u001b[0m \u001b[0memail\u001b[0m\u001b[0;34m.\u001b[0m\u001b[0mmime\u001b[0m\u001b[0;34m.\u001b[0m\u001b[0mmultipart\u001b[0m \u001b[0;32mimport\u001b[0m \u001b[0mMIMEMultipart\u001b[0m\u001b[0;34m\u001b[0m\u001b[0;34m\u001b[0m\u001b[0m\n\u001b[1;32m      5\u001b[0m \u001b[0;32mfrom\u001b[0m \u001b[0memail\u001b[0m\u001b[0;34m.\u001b[0m\u001b[0mmime\u001b[0m\u001b[0;34m.\u001b[0m\u001b[0mtext\u001b[0m \u001b[0;32mimport\u001b[0m \u001b[0mMIMEText\u001b[0m\u001b[0;34m\u001b[0m\u001b[0;34m\u001b[0m\u001b[0m\n",
            "\u001b[0;31mModuleNotFoundError\u001b[0m: No module named 'pdfplumber'",
            "",
            "\u001b[0;31m---------------------------------------------------------------------------\u001b[0;32m\nNOTE: If your import is failing due to a missing package, you can\nmanually install dependencies using either !pip or !apt.\n\nTo view examples of installing some common dependencies, click the\n\"Open Examples\" button below.\n\u001b[0;31m---------------------------------------------------------------------------\u001b[0m\n"
          ],
          "errorDetails": {
            "actions": [
              {
                "action": "open_url",
                "actionText": "Open Examples",
                "url": "/notebooks/snippets/importing_libraries.ipynb"
              }
            ]
          }
        }
      ]
    }
  ]
}